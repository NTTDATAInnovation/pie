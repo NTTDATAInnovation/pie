{
 "cells": [
  {
   "cell_type": "code",
   "execution_count": 1,
   "metadata": {},
   "outputs": [],
   "source": [
    "import json\n",
    "from pathlib import Path\n",
    "from itertools import chain"
   ]
  },
  {
   "cell_type": "markdown",
   "metadata": {},
   "source": [
    "### Load data"
   ]
  },
  {
   "cell_type": "code",
   "execution_count": 9,
   "metadata": {},
   "outputs": [],
   "source": [
    "def load_test_data(dir=\"data/test_data/\", format=\"json\"):\n",
    "    \"\"\"Load test data from directory\"\"\"\n",
    "    for file in Path(dir).glob(f\"*.{format}\"):\n",
    "        with open(file) as f:\n",
    "            yield json.load(f)[\"annotations\"]\n",
    "\n",
    "data = list(chain.from_iterable(load_test_data()))"
   ]
  },
  {
   "cell_type": "markdown",
   "metadata": {},
   "source": [
    "### Map entity names"
   ]
  },
  {
   "cell_type": "code",
   "execution_count": 10,
   "metadata": {},
   "outputs": [],
   "source": [
    "monty = {\n",
    "    (\"PER\",): \"{{NAME}}\",\n",
    "    (\"LOC\",): \"{{LOCATION}}\",\n",
    "    (\"ORG\",): \"{{ORGANIZATION\",\n",
    "    (\"CPR\",): \"{{CPR NUMBER\",\n",
    "    (\"EMAIL\",): \"{{EMAIL}}\",\n",
    "    (\"PHONE\",): \"{{PHONE NUMBER}}\",\n",
    "    (\"LINK\",): \"{{LINK}}\",\n",
    "}\n",
    "\n",
    "working_monty = {}\n",
    "for k, v in monty.items():\n",
    "    for key in k:\n",
    "        working_monty[key] = v"
   ]
  },
  {
   "cell_type": "markdown",
   "metadata": {},
   "source": [
    "### Reformat to Prodigy standard"
   ]
  },
  {
   "cell_type": "code",
   "execution_count": 11,
   "metadata": {},
   "outputs": [],
   "source": [
    "new_data = []\n",
    "for example in data:\n",
    "    inner = []\n",
    "\n",
    "    if example[1][\"entities\"]:\n",
    "        for entity in example[1][\"entities\"]:\n",
    "            start, end, label = entity\n",
    "            inner.append(\n",
    "                {\n",
    "                    \"label\": working_monty[label],\n",
    "                    \"start\": start,\n",
    "                    \"end\": end,\n",
    "                }\n",
    "            )\n",
    "\n",
    "    new_data.append(\n",
    "        {\n",
    "            \"text\": example[0].strip(\"\\r\").strip(),\n",
    "            \"entities\": inner\n",
    "        }\n",
    "    )\n",
    "del data"
   ]
  },
  {
   "cell_type": "markdown",
   "metadata": {},
   "source": [
    "### Remove duplicates"
   ]
  },
  {
   "cell_type": "code",
   "execution_count": 12,
   "metadata": {},
   "outputs": [
    {
     "name": "stdout",
     "output_type": "stream",
     "text": [
      "867 898\n"
     ]
    }
   ],
   "source": [
    "data = []\n",
    "texts = []\n",
    "for example in new_data:\n",
    "    if example[\"text\"] not in texts:\n",
    "        data.append(example)\n",
    "        texts.append(example[\"text\"])\n",
    "        \n",
    "\n",
    "print(len(data), len(new_data))\n",
    "del new_data, texts"
   ]
  },
  {
   "cell_type": "code",
   "execution_count": 13,
   "metadata": {},
   "outputs": [],
   "source": [
    "from pie import Pie\n",
    "from tqdm import tqdm"
   ]
  },
  {
   "cell_type": "code",
   "execution_count": 14,
   "metadata": {},
   "outputs": [],
   "source": [
    "pie = Pie()"
   ]
  },
  {
   "cell_type": "code",
   "execution_count": 17,
   "metadata": {},
   "outputs": [
    {
     "name": "stderr",
     "output_type": "stream",
     "text": [
      " 15%|█▌        | 3/20 [00:06<00:31,  1.85s/it]"
     ]
    },
    {
     "data": {
      "text/html": [
       "<pre style=\"white-space:pre;overflow-x:auto;line-height:normal;font-family:Menlo,'DejaVu Sans Mono',consolas,'Courier New',monospace\"><span style=\"color: #7fbfbf; text-decoration-color: #7fbfbf\">[09/01/23 01:58:31] </span><span style=\"color: #000080; text-decoration-color: #000080\">INFO    </span> Msg triggered quick return. Len: <span style=\"color: #008080; text-decoration-color: #008080; font-weight: bold\">9</span>                                     <a href=\"file:///Users/nicolai/Desktop/repos/pie/pie/easy_bake.py\" target=\"_blank\"><span style=\"color: #7f7f7f; text-decoration-color: #7f7f7f\">easy_bake.py</span></a><span style=\"color: #7f7f7f; text-decoration-color: #7f7f7f\">:</span><a href=\"file:///Users/nicolai/Desktop/repos/pie/pie/easy_bake.py#31\" target=\"_blank\"><span style=\"color: #7f7f7f; text-decoration-color: #7f7f7f\">31</span></a>\n",
       "</pre>\n"
      ],
      "text/plain": [
       "\u001b[2;36m[09/01/23 01:58:31]\u001b[0m\u001b[2;36m \u001b[0m\u001b[34mINFO    \u001b[0m Msg triggered quick return. Len: \u001b[1;36m9\u001b[0m                                     \u001b]8;id=917582;file:///Users/nicolai/Desktop/repos/pie/pie/easy_bake.py\u001b\\\u001b[2measy_bake.py\u001b[0m\u001b]8;;\u001b\\\u001b[2m:\u001b[0m\u001b]8;id=590258;file:///Users/nicolai/Desktop/repos/pie/pie/easy_bake.py#31\u001b\\\u001b[2m31\u001b[0m\u001b]8;;\u001b\\\n"
      ]
     },
     "metadata": {},
     "output_type": "display_data"
    },
    {
     "data": {
      "text/html": [
       "<pre style=\"white-space:pre;overflow-x:auto;line-height:normal;font-family:Menlo,'DejaVu Sans Mono',consolas,'Courier New',monospace\"><span style=\"color: #7fbfbf; text-decoration-color: #7fbfbf\">                    </span><span style=\"color: #000080; text-decoration-color: #000080\">INFO    </span> Msg triggered quick return. Len: <span style=\"color: #008080; text-decoration-color: #008080; font-weight: bold\">5</span>                                     <a href=\"file:///Users/nicolai/Desktop/repos/pie/pie/easy_bake.py\" target=\"_blank\"><span style=\"color: #7f7f7f; text-decoration-color: #7f7f7f\">easy_bake.py</span></a><span style=\"color: #7f7f7f; text-decoration-color: #7f7f7f\">:</span><a href=\"file:///Users/nicolai/Desktop/repos/pie/pie/easy_bake.py#31\" target=\"_blank\"><span style=\"color: #7f7f7f; text-decoration-color: #7f7f7f\">31</span></a>\n",
       "</pre>\n"
      ],
      "text/plain": [
       "\u001b[2;36m                   \u001b[0m\u001b[2;36m \u001b[0m\u001b[34mINFO    \u001b[0m Msg triggered quick return. Len: \u001b[1;36m5\u001b[0m                                     \u001b]8;id=770495;file:///Users/nicolai/Desktop/repos/pie/pie/easy_bake.py\u001b\\\u001b[2measy_bake.py\u001b[0m\u001b]8;;\u001b\\\u001b[2m:\u001b[0m\u001b]8;id=822579;file:///Users/nicolai/Desktop/repos/pie/pie/easy_bake.py#31\u001b\\\u001b[2m31\u001b[0m\u001b]8;;\u001b\\\n"
      ]
     },
     "metadata": {},
     "output_type": "display_data"
    },
    {
     "data": {
      "text/html": [
       "<pre style=\"white-space:pre;overflow-x:auto;line-height:normal;font-family:Menlo,'DejaVu Sans Mono',consolas,'Courier New',monospace\"><span style=\"color: #7fbfbf; text-decoration-color: #7fbfbf\">                    </span><span style=\"color: #000080; text-decoration-color: #000080\">INFO    </span> Msg triggered quick return. Len: <span style=\"color: #008080; text-decoration-color: #008080; font-weight: bold\">5</span>                                     <a href=\"file:///Users/nicolai/Desktop/repos/pie/pie/easy_bake.py\" target=\"_blank\"><span style=\"color: #7f7f7f; text-decoration-color: #7f7f7f\">easy_bake.py</span></a><span style=\"color: #7f7f7f; text-decoration-color: #7f7f7f\">:</span><a href=\"file:///Users/nicolai/Desktop/repos/pie/pie/easy_bake.py#31\" target=\"_blank\"><span style=\"color: #7f7f7f; text-decoration-color: #7f7f7f\">31</span></a>\n",
       "</pre>\n"
      ],
      "text/plain": [
       "\u001b[2;36m                   \u001b[0m\u001b[2;36m \u001b[0m\u001b[34mINFO    \u001b[0m Msg triggered quick return. Len: \u001b[1;36m5\u001b[0m                                     \u001b]8;id=734798;file:///Users/nicolai/Desktop/repos/pie/pie/easy_bake.py\u001b\\\u001b[2measy_bake.py\u001b[0m\u001b]8;;\u001b\\\u001b[2m:\u001b[0m\u001b]8;id=3196;file:///Users/nicolai/Desktop/repos/pie/pie/easy_bake.py#31\u001b\\\u001b[2m31\u001b[0m\u001b]8;;\u001b\\\n"
      ]
     },
     "metadata": {},
     "output_type": "display_data"
    },
    {
     "name": "stderr",
     "output_type": "stream",
     "text": [
      "100%|██████████| 20/20 [01:32<00:00,  4.60s/it]\n"
     ]
    }
   ],
   "source": [
    "\n",
    "for example in tqdm(data[20:40]):\n",
    "    response = pie.bake(example[\"text\"])\n",
    "    example[\"predicted\"] = response"
   ]
  },
  {
   "cell_type": "code",
   "execution_count": 18,
   "metadata": {},
   "outputs": [
    {
     "data": {
      "text/plain": [
       "[{'text': '_\\\\]{}##',\n",
       "  'entities': [],\n",
       "  'predicted': 'Hej {NAME},\\n\\nDu har modtaget denne e-mail, da du har tilmeldt dig vores kursus. Vi glæder os til at se dig den {DATE-OF-BIRTH} på {SCHOOL}, {STREET}, {CITY}, {ZIP CODE}.\\n\\nHvis du har spørgsmål, så kontakt os på {PHONE} eller {EMAIL}.\\n\\nVenlig hilsen\\n{NAME}'},\n",
       " {'text': '__]{{',\n",
       "  'entities': [],\n",
       "  'predicted': 'Hej {NAME},\\n\\nDu har modtaget denne e-mail, fordi du har tilmeldt dig vores kursus, der finder sted den {DATE-OF-BIRTH} på {SCHOOL} i {CITY}.\\n\\nHvis du har spørgsmål, så kontakt os på {PHONE} eller {EMAIL}.\\n\\nVenlig hilsen\\n\\n{NAME}'},\n",
       " {'text': '_\\\\]]{{}}##%', 'entities': [], 'predicted': '{NAME}'},\n",
       " {'text': '\\\\\\\\{{]]{{}', 'entities': [], 'predicted': '\\\\\\\\{{]]{{}'},\n",
       " {'text': '\\\\]{{}', 'entities': [], 'predicted': '\\\\]{{}'},\n",
       " {'text': '\\\\]{#%', 'entities': [], 'predicted': '\\\\]{#%'},\n",
       " {'text': 'Det var lige i slutningen af 2019 og lige i starten af 2020 at mon morfar og mie døde.  Og jo jeg bor i hobro',\n",
       "  'entities': [{'label': '{{NAME}}', 'start': 77, 'end': 80},\n",
       "   {'label': '{{LOCATION}}', 'start': 104, 'end': 109}],\n",
       "  'predicted': 'Det var lige i slutningen af {DATE-OF-BIRTH} og lige i starten af {DATE-OF-BIRTH} at mon morfar og mie døde. Og jo jeg bor i {CITY}.'},\n",
       " {'text': 'Og jeg har det lidt svært for tiden fordi at jeg er indlagt på rigshospitalet med en spiseforstyrrelse, og den har jeg det meget svært med. Og samtidig med det har min Farfar det ikke særligt godt han har haft kræft i 5 år me det er blevet rigtigt slemt nu. Og i dag mens jeg var på skolen ringede kl  farmor til min far og sagde at vi skulle komme.',\n",
       "  'entities': [{'label': '{{ORGANIZATION', 'start': 63, 'end': 77}],\n",
       "  'predicted': 'Og jeg har det lidt svært for tiden fordi at jeg er indlagt på {LOCATION} med en spiseforstyrrelse, og den har jeg det meget svært med. Og samtidig med det har min {NAME} det ikke særligt godt han har haft kræft i 5 år me det er blevet rigtigt slemt nu. Og i dag mens jeg var på {SCHOOL} ringede kl  {NAME} til min far og sagde at vi skulle komme.'},\n",
       " {'text': 'Og jeg har det lidt svært for tiden fordi at jeg er indlagt på Skejby med en spiseforstyrrelse, og den har jeg det meget svært med. Og samtidig med det har min Farfar det ikke særligt godt han har haft kræft i 5 år me det er blevet rigtigt slemt nu. Og i dag mens jeg var på kontoret ringede kl  farmor til min far og sagde at vi skulle komme.',\n",
       "  'entities': [{'label': '{{LOCATION}}', 'start': 63, 'end': 69}],\n",
       "  'predicted': 'Og jeg har det lidt svært for tiden fordi at jeg er indlagt på {LOCATION} med en spiseforstyrrelse, og den har jeg det meget svært med. Og samtidig med det har min {NAME} det ikke særligt godt han har haft kræft i 5 år me det er blevet rigtigt slemt nu. Og i dag mens jeg var på kontoret ringede kl  {NAME} til min far og sagde at vi skulle komme.'},\n",
       " {'text': 'Ja, vil rigtig gerne vide hvordan jeg kan max min onanering op, andet end bare op og ned på min diller',\n",
       "  'entities': [{'label': '{{NAME}}', 'start': 42, 'end': 45}],\n",
       "  'predicted': 'Ja, vil rigtig gerne vide hvordan jeg kan max min onanering op, andet end bare op og ned på min {LOCATION}.'},\n",
       " {'text': 'Ja det max mening.  Og jeg ved det ikke helt',\n",
       "  'entities': [{'label': '{{NAME}}', 'start': 7, 'end': 10}],\n",
       "  'predicted': \" sagde {NAME} og grinte. {NAME} bor på {STREET} i {CITY} og har {PHONE} som telefonnummer. {NAME} går på {SCHOOL} og har {DATE-OF-BIRTH} som fødselsdag.\\n\\n'Ja det maks mening. Og jeg ved det ikke helt' sagde {NAME} og grinte. {NAME} bor på {STREET} i {CITY} og har {PHONE} som telefonnummer. {NAME} går på {SCHOOL} og har {DATE-OF-BIRTH} som fødselsdag.\"},\n",
       " {'text': 'Kære mor   Jeg skriver det her brev til dig, fordi det er lettere for mig at få sagt nogle af de ting jeg gerne vil have sagt, hvis jeg skriver dem til dig.   Du skal huske at jeg elsker dig, og altid vil elske dig selvom vi bliver uvenner og jeg ikke vil tale til dig. Gennem tiden har vi været igennem meget dig og mig, og vi har haft vores opture og nedture, vi har haft meget sjov sammen, vi har grinet meget, vi har oplevet meget. Du har været der for mig, og du har været min sten mange gange, og det vil du blive ved med at være.    I den seneste tid er det begyndt at gå op for mig, at jeg egentlig ikke har det særlig godt. Selvom jeg går til psykolog og har dig, er jeg alligevel nået til et sted hvor jeg næsten ikke kan være i mit liv mere. Jeg forstår godt hvorfor du ikke forstår hvordan jeg har det, da jeg er meget påpasselig med ikke at sige det til nogen, da jeg finder det dybt fejlagtigt at jeg har det som jeg har det.    Jeg har her i den seneste tid været i kontakt med børnetelefonen, for at få nogle neutrale at snakke med, og nogle objektive råd. Det er også derfor jeg skriver dette brev til dig, da der var en der sagde at det måske ville være lettere at skrive et brev, end at sige det til dig. Nogle af de samtaler jeg har haft med børnetelefonen, har jeg sat ind her under markeret med forskellige farver, og de vil forhåbentlig kunne forklare dig hvorfor jeg fx gjorde som jeg gjorde den dag jeg skulle op til DHO.     Hej    Jeg er en pige på 16 år, og jeg går i 1.g. Jeg har opdaget, at jeg her det seneste år er begyndt at gide lektier og afleveringer mindre og mindre. Jeg laver dem altid, når jeg ikke har mere tid og ender med at være stresset og have dårlig samvittighed hele tiden. Udover det har jeg angst og jeg tror måske jeg skal gå til lægen for at finde ud af om der er noget andet galt også, jeg har nogle dage grædt ca. rigtig meget fordi jeg bliver ved med at svigte mig selv. Jeg føler mig aldrig stolt af mig selv, og jeg føler mig heller aldrig glad mere. Jeg går til psykolog, og har gjort det i flere år, og selvom det hjælper, kan jeg mærke at jeg får mindre og mindre lyst til at være her. Jeg tror at en af grundene til, at jeg bliver ved med at udskyde mine opgaver og lektier, er fordi jeg er bange for, at jeg ikke kan finde ud af det og derfor føler mig dum. Jeg føler mig alligevel dum, når jeg ikke laver mine ting i ordentlig tid, men alligevel har jeg ingen motivation til at lave mine lektier og afleveringer. Jeg kan bare heller ikke overskue ting, som jeg brude kunne overskue lige nu, og jeg ved ikke hvorfor. Jeg tør ikke sige det til nogen, da jeg synes det er pinligt, jeg burde jo være i stand til at strukturere min tid. Jeg har også flere gange prøvet at lave en kalender, men det virker ikke.    Jeg føler hele tiden, at jeg fejler, og at jeg ikke burde være her. Jeg vil meget gerne have hjælp.   Hej. Jeg tror jeg har en depression. Jeg har i noget tid været ked af at være i live hver eneste dag. Hver eneste dag, har jeg virkelig skulle tage mig sammen for at bare se nogenlunde ok ud. Jeg har her på det seneste opdaget at jeg ikke har været glad i lang tid. Lige nu går jeg i 1.g og har svært ved at finde motivation til at lave opgaver, lektier mm.   Hej jeg går i 1.g, og det er nu tredje gang jeg skriver herind. Min mor er lige flippet fuldstændig ud på mig, fordi jeg ikke er begyndt at forberede mig til min samfundsfagseksamen, og fordi hun synes det er mærkeligt og ikke forstår hvorfor jeg ikke vil have at hendes ven skal hjælpe mig med at forberede mig. Og jeg kan selvfølgelig godt se hvorfor, fordi det giver ikke mening, men jeg kan bare ikke overskue mange ting lige nu. Jeg har angst og jeg tror måske også jeg har en depression, og det er rigtig svært for mig at sige det til nogen, specielt min mor fordi jeg jo elsker hende så meget og jeg er bange for at hun vil blive rigtig ked af det når jeg siger det til hende, fordi hun ikke nødvendigvis kan gøre noget, og fordi det er meget at stå med når man bare er en forælder. Jeg går til psykolog, men jeg har heller ikke sagt det til hende i meget lang tid, men nu har jeg endelig fået sagt det, så jeg kan få hjælp.   Jeg ved ikke hvad jeg skal gøre, for at få det sagt til min mor, fordi jeg har virkelig virkelig ikke lyst til at gøre hende ondt.   Jeg føler mig generende og dum hver gang jeg taler med nogen om det her, og generelt bare når jeg er til. Jeg har det som om jeg er en byrde for alle, og    Du skal vide, jeg er meget ked af at skulle skrive det her til dig, da jeg ved at det er noget der sårer dig, men jeg ved nu også, at du skal vide det, så du kan forstå hvorfor jeg gør som jeg gør, og hvorfor jeg reagerer som jeg gør på de ting du siger til mig. Så det er ikke fordi jeg bare giver dig og dine tilbud om hjælp fuckfingeren, men det er fordi jeg snart ikke ved hvad jeg skal stille op med livet, og om jeg overhovedet burde have været her, da jeg konstant føler mig som en byrde for dig og alle de mennesker der er omkring mig.    Jeg vil ikke have det som jeg har det, og jeg har nu endelig fundet ud af at jeg bliver nødt til at få hjælp, så jeg kan blive glad igen. Jeg har i fredags snakket med Sara om det, og det var rart endelig at få sagt til nogen, selvom det var meget hårdt og svært at få sagt.    Jeg ved ikke hvorfor jeg skal have det sådan her, men det har jeg, og jeg ville ønske at jeg kunne få det til at gå væk, så det ikke ville genere nogen. Jeg forstår også godt at det her er noget der også tager hårdt på dig, og jeg ville ønske at jeg bare kunne tage det væk.    Du skal vide at jeg synes du er og har været en god og stærk mor. Jeg har bare nogle andre behov end man kunne ønske sig, og for det er jeg dybt ærgerlig.    Jeg skriver ikke det her til dig for at såre dig, men for at hjælpe dig med at forstå mig, og måske få svar på nogle af dine spørgsmål. Jeg har skrevet det her til dig, fordi det er lettere for mig at få det sagt når jeg skriver dig et brev, så kan jeg få det hele ud, også uden at bryde sammen, for hvis du vil snakke med mig om det her, så vil jeg nok bryde sammen i gråd fordi det er så svært et emne for mig.   Husk at jeg elsker dig, og det her ikke betyder, at jeg elsker dig mindre. Jeg håber du kan acceptere det jeg har skrevet til dig her, og husker på at jeg er taknemmelig for dig og alt det du har gjort for mig.        Jeg elsker dig knus xxx',\n",
       "  'entities': [{'label': '{{ORGANIZATION', 'start': 993, 'end': 1007},\n",
       "   {'label': '{{ORGANIZATION', 'start': 1262, 'end': 1276}],\n",
       "  'predicted': \"Kære mor   Jeg skriver det her brev til dig, fordi det er lettere for mig at få sagt nogle af de ting jeg gerne vil have sagt, hvis jeg skriver dem til dig.   Du skal huske at jeg elsker dig, og altid vil elske dig selvom vi bliver uvenner og jeg ikke vil tale til dig. Gennem tiden har vi været igennem meget dig og mig, og vi har haft vores opture og nedture, vi har haft meget sjov sammen, vi har grinet meget, vi har oplevet meget. Du har været der for mig, og du har været min {NAME} mange gange, {NAME}, som er en psykolog på {SCHOOL} i {CITY}. Vi har talt om at jeg skal starte på et behandlingsforløb, og jeg har allerede fået en tid til næste uge.\\n\\n'Og det vil du blive ved med at være. I den seneste tid er det begyndt at gå op for mig, at jeg egentlig ikke har det særlig godt. Selvom jeg går til psykolog og har dig, er jeg alligevel nået til et sted hvor jeg næsten ikke kan være i mit liv mere. Jeg forstår godt hvorfor du ikke forstår hvordan jeg har det, da jeg er meget påpasselig med ikke at sige det til nogen, da jeg finder det dybt fejlagtigt at jeg har det som jeg har det. Jeg har her i den seneste tid været i kbørnetelefonen, for at få nogle neutrale at snakke med, og nogle objektive råd. Det er også derfor jeg skriver dette brev til dig, da der var en der sagde at det måske ville være lettere at skrive et brev, end at sige det til dig. Nogle af de samtaler jeg har haft med børnetelefonen, har jeg sat ind her under markeret med forskellige farver, og de vil forhåbentlig kunne forklare dig hvorfor jeg fx gjorde som jeg gjorde den dag jeg skulle op til DHO.     Hej    Jeg er en pige på {DATE-OF-BIRTH} år, og jegGår i 1.g. Jeg har opdaget, at jeg her det seneste år er begyndt at gide lektier og afleveringer mindre og mindre. Jeg laver dem altid, når jeg ikke har mere tid og ender med at være stresset og have dårlig samvittighed hele tiden. Udover det har jeg angst og jeg tror måske jeg skal gå til lægen for at finde ud af om der er noget andet galt også, jeg har nogle dage grædt ca. rigtig meget fordi jeg bliver ved med at svigte mig selv. Jeg føler mig aldrig stolt af mig selv, og jeg føler mig heller ikke godt {{LINK}} glad mere. Jeg går til psykolog, og har gjort det i flere år, og selvom det hjælper, kan jeg mærke at jeg får mindre og mindre lyst til at være her. Jeg tror at en af grundene til, at jeg bliver ved med at udskyde mine opgaver og lektier, er fordi jeg er bange for, at jeg ikke kan finde ud af det og derfor føler mig dum. Jeg føler mig alligevel dum, når jeg ikke laver mine ting i ordentlig tid, men alligevel har jeg ingen motivation til at lave mine lektier og afleveringer. Jeg kan bareheller ikke overskue ting, som jeg brude kunne overskue lige nu, og jeg ved ikke hvorfor. Jeg tør ikke sige det til nogen, da jeg synes det er pinligt, jeg burde jo være i stand til at strukturere min tid. Jeg har også flere gange prøvet at lave en kalender, men det virker ikke.    Jeg føler hele tiden, at jeg fejler, og at jeg ikke burde være her. Jeg vil meget gerne have hjælp.   Hej. Jeg tror jeg har en depression. Jeg har i noget tid været ked af at være i live hver eneste dag. Hver enestedag, har jeg virkelig skulle tage mig sammen for at bare se nogenlunde ok ud. Jeg har her på det seneste opdaget at jeg ikke har været glad i lang tid. Lige nu går jeg i {SCHOOL} og har svært ved at finde motivation til at lave opgaver, lektier mm.   Hej jeg går i {SCHOOL}, og det er nu tredje gang jeg skriver herind. Min mor er lige flippet fuldstændig ud på mig, fordi jeg ikke er begyndt at forberede mig til min samfundsfagseksamen, og fordi hun synes det er mærkeligt og ikke forstår hvorfor jeg ikkevil have at hendes ven skal hjælpe mig med at forberede mig. Og jeg kan selvfølgelig godt se hvorfor, fordi det giver ikke mening, men jeg kan bare ikke overskue mange ting lige nu. Jeg har angst og jeg tror måske også jeg har en depression, og det er rigtig svært for mig at sige det til nogen, specielt min mor fordi jeg jo elsker hende så meget og jeg er bange for at hun vil blive rigtig ked af det når jeg siger det til hende, fordi hun ikke nødvendigvis kan gøre noget, og fordi det er megetat stå med når man bare er en forælder. Jeg går til psykolog, men jeg har heller ikke sagt det til hende i meget lang tid, men nu har jeg endelig fået sagt det, så jeg kan få hjælp.   Jeg ved ikke hvad jeg skal gøre, for at få det sagt til min mor, fordi jeg har virkelig virkelig ikke lyst til at gøre hende ondt.   Jeg føler mig generende og dum hver gang jeg taler med nogen om det her, og generelt bare når jeg er {LOCATION}. Jeg har det som om jeg er en byrde for alle, og    Du skal vide, jeg ermeget ked af at skulle skrive det her til dig, da jeg ved at det er noget der sårer dig, men jeg ved nu også, at du skal vide det, så du kan forstå hvorfor jeg gør som jeg gør, og hvorfor jeg reagerer som jeg gør på de ting du siger til mig. Så det er ikke fordi jeg bare giver dig og dine tilbud om hjælp {LOCATION}, men det er fordi jeg snart ikke ved hvad jeg skal stille op med livet, og om jeg overhovedet burde have været her, da jeg konstant føler mig som en byrde for dig og alle demennesker der er omkring mig.    Jeg vil ikke have det som jeg har det, og jeg har nu endelig fundet ud af at jeg bliver nødt til at få hjælp, så jeg kan blive glad igen. Jeg har i fredags snakket med {NAME} om det, og det var rart endelig at få sagt til nogen, selvom det var meget hårdt og svært at få sagt.    Jeg ved ikke hvorfor jeg skal have det sådan her, men det har jeg, og jeg ville ønske at jeg kunne få det til at gå væk, så det ikke ville genere nogen. Jeg forstår også godt at det her ernoget der også tager hårdt på dig, og jeg ville ønske at jeg bare kunne tage det væk.    Du skal vide at jeg synes du er og har været en god og stærk mor. Jeg har bare nogle andre behov end man kunne ønske sig, og for det er jeg dybt ærgerlig.    Jeg skriver ikke det her til dig for at såre dig, men for at hjælpe dig med at forstå mig, og måske få svar på nogle af dine spørgsmål. Jeg har skrevet det her til dig, fordi det er lettere for mig at få det sagt når jeg skriver dig et brev, så kan jeg {NAME}Få det hele ud, også uden at bryde sammen, for hvis du vil snakke med mig om det her, så vil jeg nok bryde sammen i gråd fordi det er så svært et emne for mig. Husk at jeg elsker dig, og det her ikke betyder, at jeg elsker dig mindre. Jeg håber du kan acceptere det jeg har skrevet til dig her, og husker på at jeg er taknemmelig for dig og alt det du har gjort for mig. Jeg elsker dig knus {NAME}xxx\"},\n",
       " {'text': 'Jeg har været ude og gå og også ude og stå på ski for 30 min siden men jeg kan ikke finde ro i angsten lige nu.',\n",
       "  'entities': [],\n",
       "  'predicted': 'Jeg har været ude og gå og også ude og stå på ski for 30 min siden, men jeg kan ikke finde ro i angsten lige nu.'},\n",
       " {'text': 'Jeg hedder carl og er 12',\n",
       "  'entities': [{'label': '{{NAME}}', 'start': 11, 'end': 15}],\n",
       "  'predicted': 'Jeg hedder {NAME} og er {DATE-OF-BIRTH}'},\n",
       " {'text': 'help i lost myself hope',\n",
       "  'entities': [],\n",
       "  'predicted': 'Help, jeg har mistet mig selv, håb {NAME}'},\n",
       " {'text': 'rosa',\n",
       "  'entities': [{'label': '{{NAME}}', 'start': 0, 'end': 4}],\n",
       "  'predicted': \" Andersen bor på '{{LOCATION}}' 12, i 'København'. Hun er født den '1. januar 1990' og har telefonnummer '{{PHONE}}8'.\\n\\n{NAME} Andersen bor på {STREET} 12, i {CITY}. Hun er født den {DATE-OF-BIRTH} og har telefonnummer {PHONE}.\"},\n",
       " {'text': 'Jeg er på snapchat med min klasse og er i gruppe tre pige',\n",
       "  'entities': [],\n",
       "  'predicted': 'Jeg er på snapchat med min klasse og er i gruppe {NAME}'},\n",
       " {'text': 'Jeg er på instagram med min klasse og er i gruppe tre pige',\n",
       "  'entities': [],\n",
       "  'predicted': 'Jeg er på instagram med min klasse og er i gruppe {NAME}'},\n",
       " {'text': 'Hej, jeg er en pige på 12 år, som går i 5 klasse. Mig og min bedste veninde har en anden veninde fra vores klasse som er med i en venne gruppe som nogle af os pigerne fra min klasse er med i. Vi er 5 i venne gruppen, mig, min bedste veninde, og 3 andre vores ene ven som vi bare kalder for “Amalie” er bedste veninder med en som vi kalder “Theresa” også er der en anden som vi kalder “Antonia” hun er rigtig tætte venner med Lasse og Theodor og “Sille” har været på camping så det kun os andre piger. “Sille” Kommer ikke så tit i skole nogle gange er det fordi hun er syg og andre gange fordi hun bare ikke gider i skole. Mig og min veninde følger at når “sille” ikke er i skole er alle pigerne sammen og laver noget sammen alle sammen og “antonia” er altid med og har det sjov med os alle men når “sillr” er i skole igen er det som om at “aniotnia” ikke rigtigt gider at snakke med os andre og glemmer om alle de aftaler vi havde tænkt på at lave sammen. Mig og min veninde havde tænkt os at spørger hende hvorfor men vi ved ikke om vi skal gøre det fordi vi ikke gider at blive uvenner er skabe drama. MVH en pige på 12 år.',\n",
       "  'entities': [{'label': '{{NAME}}', 'start': 290, 'end': 298},\n",
       "   {'label': '{{NAME}}', 'start': 339, 'end': 348},\n",
       "   {'label': '{{NAME}}', 'start': 384, 'end': 393},\n",
       "   {'label': '{{NAME}}', 'start': 425, 'end': 430},\n",
       "   {'label': '{{NAME}}', 'start': 434, 'end': 441},\n",
       "   {'label': '{{NAME}}', 'start': 445, 'end': 452},\n",
       "   {'label': '{{NAME}}', 'start': 501, 'end': 508},\n",
       "   {'label': '{{NAME}}', 'start': 655, 'end': 662},\n",
       "   {'label': '{{NAME}}', 'start': 739, 'end': 748},\n",
       "   {'label': '{{NAME}}', 'start': 798, 'end': 805},\n",
       "   {'label': '{{NAME}}', 'start': 839, 'end': 849}],\n",
       "  'predicted': 'Hej, jeg er en pige på {DATE-OF-BIRTH}, som går i 5. klasse. Mig og min bedste veninde har en anden veninde fra vores klasse som er med i en venne gruppe som nogle af os pigerne fra min klasse er med i. Vi er 5 i venne gruppen, mig, min bedste veninde, og 3 andre vores ene ven som vi bare kalder for “{NAME}” er bedste veninder med en som vi kalder “{NAME}” også er der en anden som vi kalder “{NAME}” hun er rigtig tætte venner med {NAME} og {NAME} og “{NAME}” har været på camping så det kun os andre piger.“Sille” Kommer ikke så tit i skole nogle gange er det fordi hun er syg og andre gange fordi hun bare ikke gider i skole. Mig og min veninde følger at når “{NAME}” ikke er i skole er alle pigerne sammen og laver noget sammen alle sammen og “{NAME}” er altid med og har det sjov med os alle men når “{NAME}” er i skole igen er det som om at “{NAME}” ikke rigtigt gider at snakke med os andre og glemmer om alle de aftaler vi havde tænkt på at lave sammen. Mig og min veninde havde tænkt os at spørgerhende hvorfor men vi ved ikke om vi skal gøre det fordi vi ikke gider at blive uvenner er skabe drama. MVH en pige på {DATE-OF-BIRTH}.'},\n",
       " {'text': 'Ups jeg mente at det var “amslie” som var på camping. MVH pige på 12 år.',\n",
       "  'entities': [{'label': '{{NAME}}', 'start': 25, 'end': 33}],\n",
       "  'predicted': 'Ups jeg mente at det var “{NAME}” som var på camping. MVH pige på {DATE-OF-BIRTH} år.'}]"
      ]
     },
     "execution_count": 18,
     "metadata": {},
     "output_type": "execute_result"
    }
   ],
   "source": [
    "data[20:40]"
   ]
  },
  {
   "cell_type": "code",
   "execution_count": 84,
   "metadata": {},
   "outputs": [],
   "source": [
    "response = pie.bake(\"Hej, jeg hedder Nicolai.\")"
   ]
  },
  {
   "cell_type": "code",
   "execution_count": 86,
   "metadata": {},
   "outputs": [],
   "source": [
    "response"
   ]
  }
 ],
 "metadata": {
  "kernelspec": {
   "display_name": ".venv",
   "language": "python",
   "name": "python3"
  },
  "language_info": {
   "codemirror_mode": {
    "name": "ipython",
    "version": 3
   },
   "file_extension": ".py",
   "mimetype": "text/x-python",
   "name": "python",
   "nbconvert_exporter": "python",
   "pygments_lexer": "ipython3",
   "version": "3.11.5"
  },
  "orig_nbformat": 4,
  "vscode": {
   "interpreter": {
    "hash": "a6a909a7897105fe84eddea67f522df1a05c743493a0115db02b657dd07d5bc0"
   }
  }
 },
 "nbformat": 4,
 "nbformat_minor": 2
}
