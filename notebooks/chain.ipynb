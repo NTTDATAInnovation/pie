{
 "cells": [
  {
   "cell_type": "code",
   "execution_count": 1,
   "metadata": {},
   "outputs": [],
   "source": [
    "from pie import Pie"
   ]
  },
  {
   "cell_type": "code",
   "execution_count": 2,
   "metadata": {},
   "outputs": [],
   "source": [
    "# init pie \n",
    "pie = Pie()"
   ]
  },
  {
   "cell_type": "code",
   "execution_count": 3,
   "metadata": {},
   "outputs": [],
   "source": [
    "t = \"Hej, jeg hedder Stephanie Pedersen. nicolaibthomsen@gmail.com. nicolai.thomsen@bs.nttdata.com 24242969 Jeg er 14 år gammel. Jeg har kr. 500 i banken. Dvs. DKK 500 i danske kroner. 27124410. Jeg elsker Apple-produkter og Fortnite. Jeg bor på Hovedgaden 22, 2. th i Valby. Det er 2500 Valby. Mit telefonnummer er 28 28 28 28. Mit personnummer er 121212-1212. Jeg har fødselsdag den 12. December 2012. Skrevet på en anden måde: 12/12 2012. Min email er cowboytoast12@gmail.com. Min far bor i Roskilde, men min adresse er hos min mor. Jeg går på Valby Lilleskole men har gået på Tårnbygårdsskolen på Amager. Jeg spiller håndbold i Valby KFUM, og min træner hedder Mathias. Min søster er anbragt på opholdsstedet Vangeledgård på Fyn.\""
   ]
  },
  {
   "cell_type": "code",
   "execution_count": 3,
   "metadata": {},
   "outputs": [],
   "source": [
    "test_query = \"Hej, jeg hedder Stephanie Pedersen. nicolaibthomsen@gmail.com. nicolai.thomsen@bs.nttdata.com 24242969 Jeg er 14 år gammel. Jeg har kr. 500 i banken. Dvs. DKK 500 i danske kroner. 27124410. Jeg elsker Apple-produkter og Fortnite. Jeg bor på Hovedgaden 22, 2. th i Valby. Det er 2500 Valby. Mit telefonnummer er 28 28 28 28. Mit personnummer er 121212-1212. Jeg har fødselsdag den 12. December 2012. Skrevet på en anden måde: 12/12 2012. Min email er cowboytoast12@gmail.com. Min far bor i Roskilde, men min adresse er hos min mor. Jeg går på Valby Lilleskole men har gået på Tårnbygårdsskolen på Amager. Jeg spiller håndbold i Valby KFUM, og min træner hedder Mathias. Min søster er anbragt på opholdsstedet Vangeledgård på Fyn. Hun kendte faktisk Albert Dyrlund, og hun blev vildt ked af det, da han døde. Min lillebror var også ked af det, da Christian Eriksen fik hjertestop til EM2020. LIge for tiden chatter han meget inde på Twitch, hvor han er inde på Rasmus Paludans kanal, hvilket jeg er lidt bekymret for. Hvis jeg skal have en bisidder, vil jeg helst mødes på Vesterbro Bibliotek. Det ligger på Lyrskovgade tror jeg det hedder? Der arbejder en der hedder Jonna, som jeg godt kender.\""
   ]
  },
  {
   "cell_type": "code",
   "execution_count": 7,
   "metadata": {},
   "outputs": [
    {
     "name": "stdout",
     "output_type": "stream",
     "text": [
      "Hej, jeg hedder {NAME}. {EMAIL}. {EMAIL}. {PHONE} Jeg er 14 år gammel. Jeg har kr. 500 i banken. Dvs. DKK 500 i danske kroner. {CPR NUMBER}. Jeg elsker Apple-produkter og Fortnite. Jeg bor på {STREET} {LOCATION} i {CITY}. Det er {ZIP CODE} {CITY}. Mit telefonnummer er {PHONE}. Mit personnummer er {CPR NUMBER}. Jeg har fødselsdag den {DATE-OF-BIRTH}. Skrevet på en anden måde: {DATE-OF-BIRTH}. Min email er {EMAIL}. Min far bor i {CITY},men min adresse er hos min mor. Jeg går på {SCHOOL} men har gået på {SCHOOL} på Amager. Jeg spiller håndbold i {CITY} KFUM, og min træner hedder {NAME}. Min søster er anbragt på opholdsstedet {LOCATION} på Fyn.\n",
      "Hej, jeg hedder {NAME}. {EMAIL}. {EMAIL}. {PHONE} Jeg er 14 år gammel. Jeg har kr. 500 i banken. Dvs. DKK 500 i danske kroner. {CPR NUMBER}. Jeg elsker Apple-produkter og Fortnite. Jeg bor på {STREET} {LOCATION} i {CITY}. Det er {ZIP CODE} {CITY}. Mit telefonnummer er {PHONE}. Mit personnummer er {CPR NUMBER}. Jeg har fødselsdag den {DATE-OF-BIRTH}. Skrevet på en anden måde: {DATE-OF-BIRTH}. Min email er {EMAIL}. Min far bor i {CITY},men min adresse er hos min mor. Jeg går på {SCHOOL} men har gået på {SCHOOL} på Amager. Jeg spiller håndbold i {CITY} KFUM, og min træner hedder {NAME}. Min søster er anbragt på opholdsstedet {LOCATION} på Fyn.\n",
      "Hej, jeg hedder {NAME}. {EMAIL}. {EMAIL}. {PHONE} Jeg er 14 år gammel. Jeg har kr. 500 i banken. Dvs. DKK 500 i danske kroner. {CPR NUMBER}. Jeg elsker Apple-produkter og Fortnite. Jeg bor på {STREET} {LOCATION} i {CITY}. Det er {ZIP CODE} {CITY}. Mit telefonnummer er {PHONE}. Mit personnummer er {CPR NUMBER}. Jeg har fødselsdag den {DATE-OF-BIRTH}. Skrevet på en anden måde: {DATE-OF-BIRTH}. Min email er {EMAIL}. Min far bor i {CITY},men min adresse er hos min mor. Jeg går på {SCHOOL} men har gået på {SCHOOL} på Amager. Jeg spiller håndbold i {CITY} KFUM, og min træner hedder {NAME}. Min søster er anbragt på opholdsstedet {LOCATION} på Fyn.\n",
      "Hej, jeg hedder {NAME}. {EMAIL}. {EMAIL}. {PHONE} Jeg er 14 år gammel. Jeg har kr. 500 i banken. Dvs. DKK 500 i danske kroner. {CPR NUMBER}. Jeg elsker Apple-produkter og Fortnite. Jeg bor på {STREET} {LOCATION} i {CITY}. Det er {ZIP CODE} {CITY}. Mit telefonnummer er {PHONE}. Mit personnummer er {CPR NUMBER}. Jeg har fødselsdag den {DATE-OF-BIRTH}. Skrevet på en anden måde: {DATE-OF-BIRTH}. Min email er {EMAIL}. Min far bor i {CITY},men min adresse er hos min mor. Jeg går på {SCHOOL} men har gået på {SCHOOL} på Amager. Jeg spiller håndbold i {CITY} KFUM, og min træner hedder {NAME}. Min søster er anbragt på opholdsstedet {LOCATION} på Fyn.\n",
      "Hej, jeg hedder {NAME}. {EMAIL}. {EMAIL}. {PHONE} Jeg er 14 år gammel. Jeg har kr. 500 i banken. Dvs. DKK 500 i danske kroner. {CPR NUMBER}. Jeg elsker Apple-produkter og Fortnite. Jeg bor på {STREET} {LOCATION} i {CITY}. Det er {ZIP CODE} {CITY}. Mit telefonnummer er {PHONE}. Mit personnummer er {CPR NUMBER}. Jeg har fødselsdag den {DATE-OF-BIRTH}. Skrevet på en anden måde: {DATE-OF-BIRTH}. Min email er {EMAIL}. Min far bor i {CITY},men min adresse er hos min mor. Jeg går på {SCHOOL} men har gået på {SCHOOL} på Amager. Jeg spiller håndbold i {CITY} KFUM, og min træner hedder {NAME}. Min søster er anbragt på opholdsstedet {LOCATION} på Fyn.\n",
      "Hej, jeg hedder {NAME}. {EMAIL}. {EMAIL}. {PHONE} Jeg er 14 år gammel. Jeg har kr. 500 i banken. Dvs. DKK 500 i danske kroner. {CPR NUMBER}. Jeg elsker Apple-produkter og Fortnite. Jeg bor på {STREET} {LOCATION} i {CITY}. Det er {ZIP CODE} {CITY}. Mit telefonnummer er {PHONE}. Mit personnummer er {CPR NUMBER}. Jeg har fødselsdag den {DATE-OF-BIRTH}. Skrevet på en anden måde: {DATE-OF-BIRTH}. Min email er {EMAIL}. Min far bor i {CITY},men min adresse er hos min mor. Jeg går på {SCHOOL} men har gået på {SCHOOL} på Amager. Jeg spiller håndbold i {CITY} KFUM, og min træner hedder {NAME}. Min søster er anbragt på opholdsstedet {LOCATION} på Fyn.\n"
     ]
    }
   ],
   "source": [
    "response = pie.bake(t)"
   ]
  },
  {
   "cell_type": "code",
   "execution_count": 8,
   "metadata": {},
   "outputs": [],
   "source": [
    "response"
   ]
  },
  {
   "cell_type": "code",
   "execution_count": 6,
   "metadata": {},
   "outputs": [
    {
     "data": {
      "text/html": [
       "<pre style=\"white-space:pre;overflow-x:auto;line-height:normal;font-family:Menlo,'DejaVu Sans Mono',consolas,'Courier New',monospace\"><span style=\"color: #7fbfbf; text-decoration-color: #7fbfbf\">[09/01/23 01:50:08] </span><span style=\"color: #000080; text-decoration-color: #000080\">INFO    </span> Msg triggered quick return. Len: <span style=\"color: #008080; text-decoration-color: #008080; font-weight: bold\">1</span>                                     <a href=\"file:///Users/nicolai/Desktop/repos/pie/pie/easy_bake.py\" target=\"_blank\"><span style=\"color: #7f7f7f; text-decoration-color: #7f7f7f\">easy_bake.py</span></a><span style=\"color: #7f7f7f; text-decoration-color: #7f7f7f\">:</span><a href=\"file:///Users/nicolai/Desktop/repos/pie/pie/easy_bake.py#31\" target=\"_blank\"><span style=\"color: #7f7f7f; text-decoration-color: #7f7f7f\">31</span></a>\n",
       "</pre>\n"
      ],
      "text/plain": [
       "\u001b[2;36m[09/01/23 01:50:08]\u001b[0m\u001b[2;36m \u001b[0m\u001b[34mINFO    \u001b[0m Msg triggered quick return. Len: \u001b[1;36m1\u001b[0m                                     \u001b]8;id=809054;file:///Users/nicolai/Desktop/repos/pie/pie/easy_bake.py\u001b\\\u001b[2measy_bake.py\u001b[0m\u001b]8;;\u001b\\\u001b[2m:\u001b[0m\u001b]8;id=607595;file:///Users/nicolai/Desktop/repos/pie/pie/easy_bake.py#31\u001b\\\u001b[2m31\u001b[0m\u001b]8;;\u001b\\\n"
      ]
     },
     "metadata": {},
     "output_type": "display_data"
    }
   ],
   "source": [
    "response = pie.bake(\"🏀\")"
   ]
  },
  {
   "cell_type": "code",
   "execution_count": 9,
   "metadata": {},
   "outputs": [
    {
     "data": {
      "text/plain": [
       "'🏀'"
      ]
     },
     "execution_count": 9,
     "metadata": {},
     "output_type": "execute_result"
    }
   ],
   "source": [
    "response"
   ]
  },
  {
   "cell_type": "code",
   "execution_count": null,
   "metadata": {},
   "outputs": [],
   "source": []
  }
 ],
 "metadata": {
  "kernelspec": {
   "display_name": ".venv",
   "language": "python",
   "name": "python3"
  },
  "language_info": {
   "codemirror_mode": {
    "name": "ipython",
    "version": 3
   },
   "file_extension": ".py",
   "mimetype": "text/x-python",
   "name": "python",
   "nbconvert_exporter": "python",
   "pygments_lexer": "ipython3",
   "version": "3.11.5"
  },
  "orig_nbformat": 4,
  "vscode": {
   "interpreter": {
    "hash": "a6a909a7897105fe84eddea67f522df1a05c743493a0115db02b657dd07d5bc0"
   }
  }
 },
 "nbformat": 4,
 "nbformat_minor": 2
}
